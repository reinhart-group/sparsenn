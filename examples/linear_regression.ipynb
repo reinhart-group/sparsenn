{
 "cells": [
  {
   "cell_type": "code",
   "execution_count": 1,
   "outputs": [
    {
     "name": "stdout",
     "output_type": "stream",
     "text": [
      "Epoch [500/20000], Loss: 0.1469, Reg Loss: 6.3274\n",
      "Epoch [1000/20000], Loss: 0.1198, Reg Loss: 3.6091\n",
      "Epoch [1500/20000], Loss: 0.1198, Reg Loss: 3.2778\n",
      "Epoch [2000/20000], Loss: 0.1415, Reg Loss: 3.1591\n",
      "Epoch [2500/20000], Loss: 0.1198, Reg Loss: 3.1013\n",
      "Epoch [3000/20000], Loss: 0.1198, Reg Loss: 3.0685\n",
      "Epoch [3500/20000], Loss: 0.1198, Reg Loss: 3.0482\n",
      "Epoch [4000/20000], Loss: 0.1198, Reg Loss: 3.0349\n",
      "Epoch [4500/20000], Loss: 0.1198, Reg Loss: 3.0257\n",
      "Epoch [5000/20000], Loss: 0.1198, Reg Loss: 3.0192\n",
      "Epoch [5500/20000], Loss: 0.1198, Reg Loss: 3.0145\n",
      "Epoch [6000/20000], Loss: 0.1198, Reg Loss: 3.0110\n",
      "Epoch [6500/20000], Loss: 0.1198, Reg Loss: 3.0084\n",
      "Epoch [7000/20000], Loss: 0.1288, Reg Loss: 3.0064\n",
      "Epoch [7500/20000], Loss: 0.1198, Reg Loss: 3.0050\n",
      "Epoch [8000/20000], Loss: 0.1198, Reg Loss: 3.0038\n",
      "Epoch [8500/20000], Loss: 0.1198, Reg Loss: 3.0030\n",
      "Epoch [9000/20000], Loss: 0.1198, Reg Loss: 3.0023\n",
      "Epoch [9500/20000], Loss: 0.1198, Reg Loss: 3.0018\n",
      "Epoch [10000/20000], Loss: 0.1198, Reg Loss: 3.0014\n",
      "Epoch [10500/20000], Loss: 0.1198, Reg Loss: 3.0011\n",
      "Epoch [11000/20000], Loss: 0.1198, Reg Loss: 3.0008\n",
      "Epoch [11500/20000], Loss: 0.1219, Reg Loss: 3.0006\n",
      "Epoch [12000/20000], Loss: 0.1198, Reg Loss: 3.0005\n",
      "Epoch [12500/20000], Loss: 0.1198, Reg Loss: 3.0004\n",
      "Epoch [13000/20000], Loss: 0.1198, Reg Loss: 3.0003\n",
      "Epoch [13500/20000], Loss: 0.1198, Reg Loss: 3.0002\n",
      "Epoch [14000/20000], Loss: 0.1198, Reg Loss: 3.0002\n",
      "Epoch [14500/20000], Loss: 0.1198, Reg Loss: 3.0001\n",
      "Epoch [15000/20000], Loss: 0.1198, Reg Loss: 3.0001\n",
      "Epoch [15500/20000], Loss: 0.1198, Reg Loss: 3.0001\n",
      "Epoch [16000/20000], Loss: 0.1198, Reg Loss: 3.0001\n",
      "Epoch [16500/20000], Loss: 0.1198, Reg Loss: 3.0001\n",
      "Epoch [17000/20000], Loss: 0.1204, Reg Loss: 3.0000\n",
      "Epoch [17500/20000], Loss: 0.1198, Reg Loss: 3.0000\n",
      "Epoch [18000/20000], Loss: 0.1198, Reg Loss: 3.0000\n",
      "Epoch [18500/20000], Loss: 0.1198, Reg Loss: 3.0000\n",
      "Epoch [19000/20000], Loss: 0.1198, Reg Loss: 3.0000\n",
      "Epoch [19500/20000], Loss: 0.1200, Reg Loss: 3.0000\n",
      "Epoch [20000/20000], Loss: 0.1198, Reg Loss: 3.0000\n",
      "Test Input: 1.0, Test Output: 3.056394100189209\n"
     ]
    }
   ],
   "source": [
    "import numpy as np\n",
    "import torch\n",
    "from torch import nn\n",
    "import torch.optim as optim\n",
    "import sparsenn\n",
    "\n",
    "gamma = -0.1\n",
    "zeta = 1.1\n",
    "beta = 2/3\n",
    "\n",
    "input_dim = 1\n",
    "hidden_dim = (16, 16)\n",
    "output_dim = 1\n",
    "model = sparsenn.RegularizedMLP(input_dim, hidden_dim, output_dim, gamma=gamma, zeta=zeta, beta=beta)\n",
    "\n",
    "criterion = nn.MSELoss()\n",
    "optimizer = optim.Adam(model.parameters(), lr=1e-1)\n",
    "\n",
    "# Dummy data\n",
    "np.random.seed(0)\n",
    "x_train = np.random.randn(32, input_dim)\n",
    "x_train = torch.tensor(x_train).float()\n",
    "true_fn = lambda x: 2 * x + 1  # Linear relationship for simplicity\n",
    "y_train = true_fn(x_train) + torch.randn_like(x_train) * 0.33\n",
    "\n",
    "# Training loop\n",
    "lmbda_reg = 1e-1\n",
    "n_epoch = 20000\n",
    "model.train()\n",
    "for epoch in range(n_epoch):\n",
    "    optimizer.zero_grad()\n",
    "    outputs = model(x_train)\n",
    "    loss = criterion(outputs, y_train)\n",
    "    reg_loss = model.regularization_loss()\n",
    "    total_loss = loss + lmbda_reg * reg_loss\n",
    "    total_loss.backward()\n",
    "    optimizer.step()\n",
    "\n",
    "    if (epoch+1) % 500 == 0:\n",
    "        print(f'Epoch [{epoch+1}/{n_epoch}], Loss: {loss.item():.4f}, Reg Loss: {reg_loss.item():.4f}')\n",
    "\n",
    "# Test the model\n",
    "model.eval()\n",
    "with torch.no_grad():\n",
    "    test_input = torch.tensor([[1.0]])\n",
    "    test_output = model(test_input)\n",
    "    print(f'Test Input: {test_input.item()}, Test Output: {test_output.item()}')"
   ],
   "metadata": {
    "collapsed": false,
    "ExecuteTime": {
     "end_time": "2024-06-11T19:43:39.020983Z",
     "start_time": "2024-06-11T19:43:17.043167Z"
    }
   },
   "id": "a510057d13bc7a5d"
  },
  {
   "cell_type": "code",
   "execution_count": 21,
   "outputs": [
    {
     "name": "stdout",
     "output_type": "stream",
     "text": [
      "Total number of non-gated parameters: 3\n"
     ]
    }
   ],
   "source": [
    "from sparsenn import viz\n",
    "\n",
    "# Render the optimized architecture \n",
    "g = viz.gated_connections_graph(model) \n",
    "fig = viz.render_sparse_nn(g)\n",
    "\n",
    "# Calculate the number of non-gated parameters -- you will see it's the same as Reg Loss above\n",
    "total_non_gated_params = sum(module.count_non_gated_params() for module in model.modules() if isinstance(module, sparsenn.L0Linear))\n",
    "print(f'Total number of non-gated parameters: {total_non_gated_params}')"
   ],
   "metadata": {
    "collapsed": false,
    "ExecuteTime": {
     "end_time": "2024-06-11T17:37:11.258190Z",
     "start_time": "2024-06-11T17:37:11.251189Z"
    }
   },
   "id": "24c27894e5b7a23c"
  },
  {
   "cell_type": "code",
   "execution_count": 22,
   "outputs": [
    {
     "data": {
      "text/plain": "<Figure size 640x480 with 1 Axes>",
      "image/png": "[encoded data removed]"
     },
     "metadata": {},
     "output_type": "display_data"
    }
   ],
   "source": [
    "import matplotlib.pyplot as plt\n",
    "\n",
    "# Make predictions outside the training domain\n",
    "x_test = (torch.rand(1000, input_dim) - 0.5) * 12\n",
    "y_test = true_fn(x_test)\n",
    "model.eval()\n",
    "with torch.no_grad():\n",
    "    predictions = model(x_test).numpy()\n",
    "    predictions = predictions.squeeze(1)\n",
    "\n",
    "# Plot the results\n",
    "plt.scatter(x_train, y_train, s=1, label='Train data', zorder=1)\n",
    "plt.scatter(x_test, predictions, s=1, label='Prediction', zorder=0)\n",
    "plt.legend()\n",
    "plt.show()"
   ],
   "metadata": {
    "collapsed": false,
    "ExecuteTime": {
     "end_time": "2024-06-11T17:37:11.867799Z",
     "start_time": "2024-06-11T17:37:11.796248Z"
    }
   },
   "id": "bfd3a793bc8f5fc4"
  },
  {
   "cell_type": "code",
   "execution_count": 23,
   "outputs": [
    {
     "name": "stdout",
     "output_type": "stream",
     "text": [
      "Epoch [500/20000], Loss: 0.3134, Reg Loss: 29.6353\n",
      "Epoch [1000/20000], Loss: 0.1347, Reg Loss: 18.4171\n",
      "Epoch [1500/20000], Loss: 0.0954, Reg Loss: 13.4406\n",
      "Epoch [2000/20000], Loss: 0.0968, Reg Loss: 9.6961\n",
      "Epoch [2500/20000], Loss: 0.0955, Reg Loss: 7.5693\n",
      "Epoch [3000/20000], Loss: 0.0993, Reg Loss: 7.2062\n",
      "Epoch [3500/20000], Loss: 0.0964, Reg Loss: 6.1052\n",
      "Epoch [4000/20000], Loss: 0.0952, Reg Loss: 4.6046\n",
      "Epoch [4500/20000], Loss: 0.0952, Reg Loss: 4.1140\n",
      "Epoch [5000/20000], Loss: 0.0953, Reg Loss: 4.0761\n",
      "Epoch [5500/20000], Loss: 0.0950, Reg Loss: 4.0525\n",
      "Epoch [6000/20000], Loss: 0.0951, Reg Loss: 4.0151\n",
      "Epoch [6500/20000], Loss: 0.0950, Reg Loss: 3.0369\n",
      "Epoch [7000/20000], Loss: 0.0950, Reg Loss: 3.0257\n",
      "Epoch [7500/20000], Loss: 0.0950, Reg Loss: 3.0187\n",
      "Epoch [8000/20000], Loss: 0.0950, Reg Loss: 3.0130\n",
      "Epoch [8500/20000], Loss: 0.0950, Reg Loss: 2.9608\n",
      "Epoch [9000/20000], Loss: 0.0950, Reg Loss: 2.0104\n",
      "Epoch [9500/20000], Loss: 0.0950, Reg Loss: 2.0076\n",
      "Epoch [10000/20000], Loss: 0.0950, Reg Loss: 2.0057\n",
      "Epoch [10500/20000], Loss: 0.0950, Reg Loss: 2.0044\n",
      "Epoch [11000/20000], Loss: 0.0950, Reg Loss: 2.0034\n",
      "Epoch [11500/20000], Loss: 0.0950, Reg Loss: 2.0026\n",
      "Epoch [12000/20000], Loss: 0.0950, Reg Loss: 2.0020\n",
      "Epoch [12500/20000], Loss: 0.1121, Reg Loss: 2.0016\n",
      "Epoch [13000/20000], Loss: 0.0950, Reg Loss: 2.0012\n",
      "Epoch [13500/20000], Loss: 0.0950, Reg Loss: 2.0009\n",
      "Epoch [14000/20000], Loss: 0.0950, Reg Loss: 2.0007\n",
      "Epoch [14500/20000], Loss: 0.0951, Reg Loss: 2.0006\n",
      "Epoch [15000/20000], Loss: 0.0950, Reg Loss: 2.0004\n",
      "Epoch [15500/20000], Loss: 0.0950, Reg Loss: 2.0003\n",
      "Epoch [16000/20000], Loss: 0.0950, Reg Loss: 2.0003\n",
      "Epoch [16500/20000], Loss: 0.0981, Reg Loss: 2.0002\n",
      "Epoch [17000/20000], Loss: 0.0950, Reg Loss: 2.0002\n",
      "Epoch [17500/20000], Loss: 0.0950, Reg Loss: 2.0001\n",
      "Epoch [18000/20000], Loss: 0.0950, Reg Loss: 2.0001\n",
      "Epoch [18500/20000], Loss: 0.0950, Reg Loss: 2.0001\n",
      "Epoch [19000/20000], Loss: 0.0950, Reg Loss: 2.0001\n",
      "Epoch [19500/20000], Loss: 0.0950, Reg Loss: 2.0000\n",
      "Epoch [20000/20000], Loss: 0.0950, Reg Loss: 2.0000\n"
     ]
    }
   ],
   "source": [
    "input_dim = 1\n",
    "hidden_dim = (100, )\n",
    "output_dim = 1\n",
    "model = sparsenn.MonotonicRegularizedMLP(input_dim, hidden_dim, output_dim, gamma=gamma, zeta=zeta, beta=beta)\n",
    "\n",
    "criterion = nn.MSELoss()\n",
    "optimizer = optim.Adam(model.parameters(), lr=1e-1)\n",
    "\n",
    "# Dummy data\n",
    "np.random.seed(0)\n",
    "x_train = np.random.randn(32, input_dim)\n",
    "x_train = torch.tensor(x_train).float()\n",
    "true_fn = lambda x: 2 * x + 11  # Linear relationship for simplicity\n",
    "y_train = true_fn(x_train) + torch.randn_like(x_train) * 0.33\n",
    "\n",
    "# Training loop\n",
    "lmbda_reg = 1e-1\n",
    "n_epoch = 20000\n",
    "model.train()\n",
    "for epoch in range(n_epoch):\n",
    "    optimizer.zero_grad()\n",
    "    outputs = model(x_train)\n",
    "    loss = criterion(outputs, y_train)\n",
    "    reg_loss = model.regularization_loss()\n",
    "    total_loss = loss + lmbda_reg * reg_loss  # np.sqrt(epoch)\n",
    "    total_loss.backward()\n",
    "    optimizer.step()\n",
    "\n",
    "    if (epoch+1) % 500 == 0:\n",
    "        print(f'Epoch [{epoch+1}/{n_epoch}], Loss: {loss.item():.4f}, Reg Loss: {reg_loss.item():.4f}')"
   ],
   "metadata": {
    "collapsed": false,
    "ExecuteTime": {
     "end_time": "2024-06-11T17:37:22.045257Z",
     "start_time": "2024-06-11T17:37:13.045352Z"
    }
   },
   "id": "c722aa2a52743996"
  },
  {
   "cell_type": "code",
   "execution_count": 24,
   "outputs": [
    {
     "data": {
      "text/plain": "<Figure size 640x480 with 1 Axes>",
      "image/png": "[encoded data removed]"
     },
     "metadata": {},
     "output_type": "display_data"
    }
   ],
   "source": [
    "# Make predictions outside the training domain\n",
    "x_test = (torch.rand(1000, input_dim) - 0.5) * 12\n",
    "y_test = true_fn(x_test)\n",
    "model.eval()\n",
    "with torch.no_grad():\n",
    "    predictions = model(x_test).numpy()\n",
    "    predictions = predictions.squeeze(1)\n",
    "\n",
    "# Plot the results\n",
    "plt.scatter(x_train, y_train, s=1, label='Train data', zorder=1)\n",
    "plt.scatter(x_test, predictions, s=1, label='Prediction', zorder=0)\n",
    "plt.legend()\n",
    "plt.show()"
   ],
   "metadata": {
    "collapsed": false,
    "ExecuteTime": {
     "end_time": "2024-06-11T17:37:22.736902Z",
     "start_time": "2024-06-11T17:37:22.651982Z"
    }
   },
   "id": "637598374865d199"
  },
  {
   "cell_type": "code",
   "execution_count": 41,
   "outputs": [
    {
     "data": {
      "text/plain": "<Figure size 640x480 with 1 Axes>",
      "image/png": "[encoded data removed]"
     },
     "metadata": {},
     "output_type": "display_data"
    }
   ],
   "source": [
    "g = viz.gated_connections_graph(model) \n",
    "fig = viz.render_sparse_nn(g)"
   ],
   "metadata": {
    "collapsed": false,
    "ExecuteTime": {
     "end_time": "2024-06-11T17:45:21.630625Z",
     "start_time": "2024-06-11T17:45:21.580148Z"
    }
   },
   "id": "a16056df54d1116d"
  },
  {
   "cell_type": "code",
   "execution_count": null,
   "outputs": [],
   "source": [],
   "metadata": {
    "collapsed": false
   },
   "id": "70361b3d88601bad"
  }
 ],
 "metadata": {
  "kernelspec": {
   "display_name": "Python 3",
   "language": "python",
   "name": "python3"
  },
  "language_info": {
   "codemirror_mode": {
    "name": "ipython",
    "version": 2
   },
   "file_extension": ".py",
   "mimetype": "text/x-python",
   "name": "python",
   "nbconvert_exporter": "python",
   "pygments_lexer": "ipython2",
   "version": "2.7.6"
  }
 },
 "nbformat": 4,
 "nbformat_minor": 5
}
